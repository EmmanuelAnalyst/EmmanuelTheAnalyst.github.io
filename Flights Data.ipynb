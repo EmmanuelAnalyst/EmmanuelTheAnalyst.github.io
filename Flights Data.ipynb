{
 "cells": [
  {
   "cell_type": "markdown",
   "metadata": {
    "slideshow": {
     "slide_type": "slide"
    }
   },
   "source": [
    " # ANALYSIS OF A FLIGHT DATASET"
   ]
  },
  {
   "cell_type": "code",
   "execution_count": 217,
   "metadata": {},
   "outputs": [],
   "source": [
    "import numpy as np\n",
    "import pandas as pd\n",
    "import matplotlib.pyplot as plt\n",
    "import seaborn as sns\n",
    "%matplotlib inline"
   ]
  },
  {
   "cell_type": "markdown",
   "metadata": {},
   "source": [
    "## Importing both tables (x_test and y_test)"
   ]
  },
  {
   "cell_type": "code",
   "execution_count": 218,
   "metadata": {},
   "outputs": [],
   "source": [
    "X_test = pd.read_csv('C:/Users/GLORIA UDOH/X_test.csv')"
   ]
  },
  {
   "cell_type": "code",
   "execution_count": 219,
   "metadata": {},
   "outputs": [
    {
     "data": {
      "text/html": [
       "<div>\n",
       "<style scoped>\n",
       "    .dataframe tbody tr th:only-of-type {\n",
       "        vertical-align: middle;\n",
       "    }\n",
       "\n",
       "    .dataframe tbody tr th {\n",
       "        vertical-align: top;\n",
       "    }\n",
       "\n",
       "    .dataframe thead th {\n",
       "        text-align: right;\n",
       "    }\n",
       "</style>\n",
       "<table border=\"1\" class=\"dataframe\">\n",
       "  <thead>\n",
       "    <tr style=\"text-align: right;\">\n",
       "      <th></th>\n",
       "      <th>flight_id</th>\n",
       "      <th>airline</th>\n",
       "      <th>flight</th>\n",
       "      <th>source_city</th>\n",
       "      <th>departure_time</th>\n",
       "      <th>stops</th>\n",
       "      <th>arrival_time</th>\n",
       "      <th>destination_city</th>\n",
       "      <th>duration</th>\n",
       "      <th>days_left</th>\n",
       "    </tr>\n",
       "  </thead>\n",
       "  <tbody>\n",
       "    <tr>\n",
       "      <th>0</th>\n",
       "      <td>278519</td>\n",
       "      <td>Air_India</td>\n",
       "      <td>AI-559</td>\n",
       "      <td>Hyderabad</td>\n",
       "      <td>Early_Morning</td>\n",
       "      <td>one</td>\n",
       "      <td>Night</td>\n",
       "      <td>Mumbai</td>\n",
       "      <td>14.75</td>\n",
       "      <td>22</td>\n",
       "    </tr>\n",
       "    <tr>\n",
       "      <th>1</th>\n",
       "      <td>264230</td>\n",
       "      <td>Vistara</td>\n",
       "      <td>UK-720</td>\n",
       "      <td>Kolkata</td>\n",
       "      <td>Early_Morning</td>\n",
       "      <td>one</td>\n",
       "      <td>Evening</td>\n",
       "      <td>Mumbai</td>\n",
       "      <td>9.33</td>\n",
       "      <td>6</td>\n",
       "    </tr>\n",
       "    <tr>\n",
       "      <th>2</th>\n",
       "      <td>260097</td>\n",
       "      <td>Vistara</td>\n",
       "      <td>UK-852</td>\n",
       "      <td>Bangalore</td>\n",
       "      <td>Morning</td>\n",
       "      <td>one</td>\n",
       "      <td>Evening</td>\n",
       "      <td>Chennai</td>\n",
       "      <td>10.42</td>\n",
       "      <td>27</td>\n",
       "    </tr>\n",
       "    <tr>\n",
       "      <th>3</th>\n",
       "      <td>218935</td>\n",
       "      <td>Vistara</td>\n",
       "      <td>UK-747</td>\n",
       "      <td>Delhi</td>\n",
       "      <td>Early_Morning</td>\n",
       "      <td>zero</td>\n",
       "      <td>Morning</td>\n",
       "      <td>Kolkata</td>\n",
       "      <td>2.08</td>\n",
       "      <td>47</td>\n",
       "    </tr>\n",
       "    <tr>\n",
       "      <th>4</th>\n",
       "      <td>211085</td>\n",
       "      <td>Air_India</td>\n",
       "      <td>AI-762</td>\n",
       "      <td>Delhi</td>\n",
       "      <td>Night</td>\n",
       "      <td>one</td>\n",
       "      <td>Night</td>\n",
       "      <td>Mumbai</td>\n",
       "      <td>23.83</td>\n",
       "      <td>41</td>\n",
       "    </tr>\n",
       "    <tr>\n",
       "      <th>5</th>\n",
       "      <td>251748</td>\n",
       "      <td>Air_India</td>\n",
       "      <td>AI-505</td>\n",
       "      <td>Bangalore</td>\n",
       "      <td>Morning</td>\n",
       "      <td>one</td>\n",
       "      <td>Night</td>\n",
       "      <td>Mumbai</td>\n",
       "      <td>11.17</td>\n",
       "      <td>37</td>\n",
       "    </tr>\n",
       "    <tr>\n",
       "      <th>6</th>\n",
       "      <td>292760</td>\n",
       "      <td>Air_India</td>\n",
       "      <td>AI-430</td>\n",
       "      <td>Chennai</td>\n",
       "      <td>Morning</td>\n",
       "      <td>one</td>\n",
       "      <td>Night</td>\n",
       "      <td>Mumbai</td>\n",
       "      <td>11.33</td>\n",
       "      <td>39</td>\n",
       "    </tr>\n",
       "    <tr>\n",
       "      <th>7</th>\n",
       "      <td>292966</td>\n",
       "      <td>Air_India</td>\n",
       "      <td>AI-440</td>\n",
       "      <td>Chennai</td>\n",
       "      <td>Early_Morning</td>\n",
       "      <td>one</td>\n",
       "      <td>Night</td>\n",
       "      <td>Mumbai</td>\n",
       "      <td>15.08</td>\n",
       "      <td>42</td>\n",
       "    </tr>\n",
       "    <tr>\n",
       "      <th>8</th>\n",
       "      <td>245610</td>\n",
       "      <td>Air_India</td>\n",
       "      <td>AI-565</td>\n",
       "      <td>Bangalore</td>\n",
       "      <td>Afternoon</td>\n",
       "      <td>one</td>\n",
       "      <td>Morning</td>\n",
       "      <td>Delhi</td>\n",
       "      <td>18.75</td>\n",
       "      <td>12</td>\n",
       "    </tr>\n",
       "    <tr>\n",
       "      <th>9</th>\n",
       "      <td>261821</td>\n",
       "      <td>Air_India</td>\n",
       "      <td>AI-773</td>\n",
       "      <td>Kolkata</td>\n",
       "      <td>Evening</td>\n",
       "      <td>one</td>\n",
       "      <td>Afternoon</td>\n",
       "      <td>Delhi</td>\n",
       "      <td>19.00</td>\n",
       "      <td>11</td>\n",
       "    </tr>\n",
       "  </tbody>\n",
       "</table>\n",
       "</div>"
      ],
      "text/plain": [
       "   flight_id    airline  flight source_city departure_time stops arrival_time  \\\n",
       "0     278519  Air_India  AI-559   Hyderabad  Early_Morning   one        Night   \n",
       "1     264230    Vistara  UK-720     Kolkata  Early_Morning   one      Evening   \n",
       "2     260097    Vistara  UK-852   Bangalore        Morning   one      Evening   \n",
       "3     218935    Vistara  UK-747       Delhi  Early_Morning  zero      Morning   \n",
       "4     211085  Air_India  AI-762       Delhi          Night   one        Night   \n",
       "5     251748  Air_India  AI-505   Bangalore        Morning   one        Night   \n",
       "6     292760  Air_India  AI-430     Chennai        Morning   one        Night   \n",
       "7     292966  Air_India  AI-440     Chennai  Early_Morning   one        Night   \n",
       "8     245610  Air_India  AI-565   Bangalore      Afternoon   one      Morning   \n",
       "9     261821  Air_India  AI-773     Kolkata        Evening   one    Afternoon   \n",
       "\n",
       "  destination_city  duration  days_left  \n",
       "0           Mumbai     14.75         22  \n",
       "1           Mumbai      9.33          6  \n",
       "2          Chennai     10.42         27  \n",
       "3          Kolkata      2.08         47  \n",
       "4           Mumbai     23.83         41  \n",
       "5           Mumbai     11.17         37  \n",
       "6           Mumbai     11.33         39  \n",
       "7           Mumbai     15.08         42  \n",
       "8            Delhi     18.75         12  \n",
       "9            Delhi     19.00         11  "
      ]
     },
     "execution_count": 219,
     "metadata": {},
     "output_type": "execute_result"
    }
   ],
   "source": [
    "X_test.head(10)"
   ]
  },
  {
   "cell_type": "code",
   "execution_count": 220,
   "metadata": {},
   "outputs": [],
   "source": [
    "\n",
    "Y_test = pd.read_csv('C:/Users/GLORIA UDOH/y_test.csv')"
   ]
  },
  {
   "cell_type": "code",
   "execution_count": 221,
   "metadata": {
    "scrolled": false
   },
   "outputs": [
    {
     "data": {
      "text/html": [
       "<div>\n",
       "<style scoped>\n",
       "    .dataframe tbody tr th:only-of-type {\n",
       "        vertical-align: middle;\n",
       "    }\n",
       "\n",
       "    .dataframe tbody tr th {\n",
       "        vertical-align: top;\n",
       "    }\n",
       "\n",
       "    .dataframe thead th {\n",
       "        text-align: right;\n",
       "    }\n",
       "</style>\n",
       "<table border=\"1\" class=\"dataframe\">\n",
       "  <thead>\n",
       "    <tr style=\"text-align: right;\">\n",
       "      <th></th>\n",
       "      <th>flight_id</th>\n",
       "      <th>price</th>\n",
       "    </tr>\n",
       "  </thead>\n",
       "  <tbody>\n",
       "    <tr>\n",
       "      <th>0</th>\n",
       "      <td>278519</td>\n",
       "      <td>45883</td>\n",
       "    </tr>\n",
       "    <tr>\n",
       "      <th>1</th>\n",
       "      <td>264230</td>\n",
       "      <td>58223</td>\n",
       "    </tr>\n",
       "    <tr>\n",
       "      <th>2</th>\n",
       "      <td>260097</td>\n",
       "      <td>49992</td>\n",
       "    </tr>\n",
       "    <tr>\n",
       "      <th>3</th>\n",
       "      <td>218935</td>\n",
       "      <td>45896</td>\n",
       "    </tr>\n",
       "    <tr>\n",
       "      <th>4</th>\n",
       "      <td>211085</td>\n",
       "      <td>59033</td>\n",
       "    </tr>\n",
       "    <tr>\n",
       "      <th>5</th>\n",
       "      <td>251748</td>\n",
       "      <td>54684</td>\n",
       "    </tr>\n",
       "    <tr>\n",
       "      <th>6</th>\n",
       "      <td>292760</td>\n",
       "      <td>49553</td>\n",
       "    </tr>\n",
       "    <tr>\n",
       "      <th>7</th>\n",
       "      <td>292966</td>\n",
       "      <td>49553</td>\n",
       "    </tr>\n",
       "    <tr>\n",
       "      <th>8</th>\n",
       "      <td>245610</td>\n",
       "      <td>37658</td>\n",
       "    </tr>\n",
       "    <tr>\n",
       "      <th>9</th>\n",
       "      <td>261821</td>\n",
       "      <td>53743</td>\n",
       "    </tr>\n",
       "  </tbody>\n",
       "</table>\n",
       "</div>"
      ],
      "text/plain": [
       "   flight_id   price \n",
       "0     278519    45883\n",
       "1     264230    58223\n",
       "2     260097    49992\n",
       "3     218935    45896\n",
       "4     211085    59033\n",
       "5     251748    54684\n",
       "6     292760    49553\n",
       "7     292966    49553\n",
       "8     245610    37658\n",
       "9     261821    53743"
      ]
     },
     "execution_count": 221,
     "metadata": {},
     "output_type": "execute_result"
    }
   ],
   "source": [
    "Y_test.head(10)"
   ]
  },
  {
   "cell_type": "code",
   "execution_count": 222,
   "metadata": {},
   "outputs": [],
   "source": [
    "Y_test.rename(columns={' price ': 'flight_fee'}, inplace=True)"
   ]
  },
  {
   "cell_type": "markdown",
   "metadata": {},
   "source": [
    "## Joining both tables (x_test and y_test) to give a more complete dataset (x_flight)"
   ]
  },
  {
   "cell_type": "code",
   "execution_count": 223,
   "metadata": {
    "scrolled": false
   },
   "outputs": [
    {
     "data": {
      "text/html": [
       "<div>\n",
       "<style scoped>\n",
       "    .dataframe tbody tr th:only-of-type {\n",
       "        vertical-align: middle;\n",
       "    }\n",
       "\n",
       "    .dataframe tbody tr th {\n",
       "        vertical-align: top;\n",
       "    }\n",
       "\n",
       "    .dataframe thead th {\n",
       "        text-align: right;\n",
       "    }\n",
       "</style>\n",
       "<table border=\"1\" class=\"dataframe\">\n",
       "  <thead>\n",
       "    <tr style=\"text-align: right;\">\n",
       "      <th></th>\n",
       "      <th>flight_id</th>\n",
       "      <th>airline</th>\n",
       "      <th>flight</th>\n",
       "      <th>source_city</th>\n",
       "      <th>departure_time</th>\n",
       "      <th>stops</th>\n",
       "      <th>arrival_time</th>\n",
       "      <th>destination_city</th>\n",
       "      <th>duration</th>\n",
       "      <th>days_left</th>\n",
       "      <th>flight_fee</th>\n",
       "    </tr>\n",
       "  </thead>\n",
       "  <tbody>\n",
       "    <tr>\n",
       "      <th>0</th>\n",
       "      <td>278519</td>\n",
       "      <td>Air_India</td>\n",
       "      <td>AI-559</td>\n",
       "      <td>Hyderabad</td>\n",
       "      <td>Early_Morning</td>\n",
       "      <td>one</td>\n",
       "      <td>Night</td>\n",
       "      <td>Mumbai</td>\n",
       "      <td>14.75</td>\n",
       "      <td>22</td>\n",
       "      <td>45883</td>\n",
       "    </tr>\n",
       "    <tr>\n",
       "      <th>1</th>\n",
       "      <td>264230</td>\n",
       "      <td>Vistara</td>\n",
       "      <td>UK-720</td>\n",
       "      <td>Kolkata</td>\n",
       "      <td>Early_Morning</td>\n",
       "      <td>one</td>\n",
       "      <td>Evening</td>\n",
       "      <td>Mumbai</td>\n",
       "      <td>9.33</td>\n",
       "      <td>6</td>\n",
       "      <td>58223</td>\n",
       "    </tr>\n",
       "    <tr>\n",
       "      <th>2</th>\n",
       "      <td>260097</td>\n",
       "      <td>Vistara</td>\n",
       "      <td>UK-852</td>\n",
       "      <td>Bangalore</td>\n",
       "      <td>Morning</td>\n",
       "      <td>one</td>\n",
       "      <td>Evening</td>\n",
       "      <td>Chennai</td>\n",
       "      <td>10.42</td>\n",
       "      <td>27</td>\n",
       "      <td>49992</td>\n",
       "    </tr>\n",
       "    <tr>\n",
       "      <th>3</th>\n",
       "      <td>218935</td>\n",
       "      <td>Vistara</td>\n",
       "      <td>UK-747</td>\n",
       "      <td>Delhi</td>\n",
       "      <td>Early_Morning</td>\n",
       "      <td>zero</td>\n",
       "      <td>Morning</td>\n",
       "      <td>Kolkata</td>\n",
       "      <td>2.08</td>\n",
       "      <td>47</td>\n",
       "      <td>45896</td>\n",
       "    </tr>\n",
       "    <tr>\n",
       "      <th>4</th>\n",
       "      <td>211085</td>\n",
       "      <td>Air_India</td>\n",
       "      <td>AI-762</td>\n",
       "      <td>Delhi</td>\n",
       "      <td>Night</td>\n",
       "      <td>one</td>\n",
       "      <td>Night</td>\n",
       "      <td>Mumbai</td>\n",
       "      <td>23.83</td>\n",
       "      <td>41</td>\n",
       "      <td>59033</td>\n",
       "    </tr>\n",
       "  </tbody>\n",
       "</table>\n",
       "</div>"
      ],
      "text/plain": [
       "   flight_id    airline  flight source_city departure_time stops arrival_time  \\\n",
       "0     278519  Air_India  AI-559   Hyderabad  Early_Morning   one        Night   \n",
       "1     264230    Vistara  UK-720     Kolkata  Early_Morning   one      Evening   \n",
       "2     260097    Vistara  UK-852   Bangalore        Morning   one      Evening   \n",
       "3     218935    Vistara  UK-747       Delhi  Early_Morning  zero      Morning   \n",
       "4     211085  Air_India  AI-762       Delhi          Night   one        Night   \n",
       "\n",
       "  destination_city  duration  days_left  flight_fee  \n",
       "0           Mumbai     14.75         22       45883  \n",
       "1           Mumbai      9.33          6       58223  \n",
       "2          Chennai     10.42         27       49992  \n",
       "3          Kolkata      2.08         47       45896  \n",
       "4           Mumbai     23.83         41       59033  "
      ]
     },
     "execution_count": 223,
     "metadata": {},
     "output_type": "execute_result"
    }
   ],
   "source": [
    "x_flight = pd.merge(left = X_test, right = Y_test, on = \"flight_id\", how = \"inner\")\n",
    "x_flight.head()"
   ]
  },
  {
   "cell_type": "markdown",
   "metadata": {},
   "source": [
    "## This shows information about the data, checking for null values and also describing the data numerically"
   ]
  },
  {
   "cell_type": "code",
   "execution_count": 224,
   "metadata": {
    "scrolled": false
   },
   "outputs": [
    {
     "name": "stdout",
     "output_type": "stream",
     "text": [
      "<class 'pandas.core.frame.DataFrame'>\n",
      "Int64Index: 3347 entries, 0 to 3346\n",
      "Data columns (total 11 columns):\n",
      " #   Column            Non-Null Count  Dtype  \n",
      "---  ------            --------------  -----  \n",
      " 0   flight_id         3347 non-null   int64  \n",
      " 1   airline           3347 non-null   object \n",
      " 2   flight            3347 non-null   object \n",
      " 3   source_city       3347 non-null   object \n",
      " 4   departure_time    3347 non-null   object \n",
      " 5   stops             3347 non-null   object \n",
      " 6   arrival_time      3347 non-null   object \n",
      " 7   destination_city  3347 non-null   object \n",
      " 8   duration          3347 non-null   float64\n",
      " 9   days_left         3347 non-null   int64  \n",
      " 10  flight_fee        3347 non-null   int64  \n",
      "dtypes: float64(1), int64(3), object(7)\n",
      "memory usage: 313.8+ KB\n"
     ]
    }
   ],
   "source": [
    "x_flight.info()"
   ]
  },
  {
   "cell_type": "code",
   "execution_count": 225,
   "metadata": {},
   "outputs": [
    {
     "data": {
      "text/plain": [
       "flight_id           0\n",
       "airline             0\n",
       "flight              0\n",
       "source_city         0\n",
       "departure_time      0\n",
       "stops               0\n",
       "arrival_time        0\n",
       "destination_city    0\n",
       "duration            0\n",
       "days_left           0\n",
       "flight_fee          0\n",
       "dtype: int64"
      ]
     },
     "execution_count": 225,
     "metadata": {},
     "output_type": "execute_result"
    }
   ],
   "source": [
    "x_flight.isna().sum()"
   ]
  },
  {
   "cell_type": "code",
   "execution_count": 226,
   "metadata": {
    "scrolled": true
   },
   "outputs": [
    {
     "data": {
      "text/html": [
       "<div>\n",
       "<style scoped>\n",
       "    .dataframe tbody tr th:only-of-type {\n",
       "        vertical-align: middle;\n",
       "    }\n",
       "\n",
       "    .dataframe tbody tr th {\n",
       "        vertical-align: top;\n",
       "    }\n",
       "\n",
       "    .dataframe thead th {\n",
       "        text-align: right;\n",
       "    }\n",
       "</style>\n",
       "<table border=\"1\" class=\"dataframe\">\n",
       "  <thead>\n",
       "    <tr style=\"text-align: right;\">\n",
       "      <th></th>\n",
       "      <th>flight_id</th>\n",
       "      <th>duration</th>\n",
       "      <th>days_left</th>\n",
       "      <th>flight_fee</th>\n",
       "    </tr>\n",
       "  </thead>\n",
       "  <tbody>\n",
       "    <tr>\n",
       "      <th>count</th>\n",
       "      <td>3347.000000</td>\n",
       "      <td>3347.000000</td>\n",
       "      <td>3347.000000</td>\n",
       "      <td>3347.000000</td>\n",
       "    </tr>\n",
       "    <tr>\n",
       "      <th>mean</th>\n",
       "      <td>252666.002689</td>\n",
       "      <td>13.725139</td>\n",
       "      <td>25.924709</td>\n",
       "      <td>52473.302659</td>\n",
       "    </tr>\n",
       "    <tr>\n",
       "      <th>std</th>\n",
       "      <td>28968.354955</td>\n",
       "      <td>6.856276</td>\n",
       "      <td>13.506734</td>\n",
       "      <td>13309.492361</td>\n",
       "    </tr>\n",
       "    <tr>\n",
       "      <th>min</th>\n",
       "      <td>7837.000000</td>\n",
       "      <td>1.250000</td>\n",
       "      <td>1.000000</td>\n",
       "      <td>2339.000000</td>\n",
       "    </tr>\n",
       "    <tr>\n",
       "      <th>25%</th>\n",
       "      <td>229026.500000</td>\n",
       "      <td>8.830000</td>\n",
       "      <td>14.000000</td>\n",
       "      <td>45054.500000</td>\n",
       "    </tr>\n",
       "    <tr>\n",
       "      <th>50%</th>\n",
       "      <td>252599.000000</td>\n",
       "      <td>13.080000</td>\n",
       "      <td>26.000000</td>\n",
       "      <td>53164.000000</td>\n",
       "    </tr>\n",
       "    <tr>\n",
       "      <th>75%</th>\n",
       "      <td>277146.500000</td>\n",
       "      <td>17.920000</td>\n",
       "      <td>38.000000</td>\n",
       "      <td>60396.000000</td>\n",
       "    </tr>\n",
       "    <tr>\n",
       "      <th>max</th>\n",
       "      <td>300141.000000</td>\n",
       "      <td>36.170000</td>\n",
       "      <td>49.000000</td>\n",
       "      <td>103819.000000</td>\n",
       "    </tr>\n",
       "  </tbody>\n",
       "</table>\n",
       "</div>"
      ],
      "text/plain": [
       "           flight_id     duration    days_left     flight_fee\n",
       "count    3347.000000  3347.000000  3347.000000    3347.000000\n",
       "mean   252666.002689    13.725139    25.924709   52473.302659\n",
       "std     28968.354955     6.856276    13.506734   13309.492361\n",
       "min      7837.000000     1.250000     1.000000    2339.000000\n",
       "25%    229026.500000     8.830000    14.000000   45054.500000\n",
       "50%    252599.000000    13.080000    26.000000   53164.000000\n",
       "75%    277146.500000    17.920000    38.000000   60396.000000\n",
       "max    300141.000000    36.170000    49.000000  103819.000000"
      ]
     },
     "execution_count": 226,
     "metadata": {},
     "output_type": "execute_result"
    }
   ],
   "source": [
    "x_flight.describe()"
   ]
  },
  {
   "cell_type": "markdown",
   "metadata": {},
   "source": [
    "## This shows the number of rows & columns and also the data types of each column"
   ]
  },
  {
   "cell_type": "code",
   "execution_count": 227,
   "metadata": {},
   "outputs": [
    {
     "data": {
      "text/plain": [
       "(3347, 11)"
      ]
     },
     "execution_count": 227,
     "metadata": {},
     "output_type": "execute_result"
    }
   ],
   "source": [
    "x_flight.shape"
   ]
  },
  {
   "cell_type": "code",
   "execution_count": 228,
   "metadata": {
    "scrolled": false
   },
   "outputs": [
    {
     "data": {
      "text/plain": [
       "flight_id             int64\n",
       "airline              object\n",
       "flight               object\n",
       "source_city          object\n",
       "departure_time       object\n",
       "stops                object\n",
       "arrival_time         object\n",
       "destination_city     object\n",
       "duration            float64\n",
       "days_left             int64\n",
       "flight_fee            int64\n",
       "dtype: object"
      ]
     },
     "execution_count": 228,
     "metadata": {},
     "output_type": "execute_result"
    }
   ],
   "source": [
    "x_flight.dtypes"
   ]
  },
  {
   "cell_type": "markdown",
   "metadata": {},
   "source": [
    "## This shows the Distinct Values From each column"
   ]
  },
  {
   "cell_type": "code",
   "execution_count": 229,
   "metadata": {},
   "outputs": [
    {
     "data": {
      "text/plain": [
       "array(['Air_India', 'Vistara', 'Indigo', 'GO_FIRST', 'SpiceJet',\n",
       "       'AirAsia'], dtype=object)"
      ]
     },
     "execution_count": 229,
     "metadata": {},
     "output_type": "execute_result"
    }
   ],
   "source": [
    "x_flight.airline.unique()"
   ]
  },
  {
   "cell_type": "code",
   "execution_count": 230,
   "metadata": {},
   "outputs": [
    {
     "data": {
      "text/plain": [
       "array(['Hyderabad', 'Kolkata', 'Bangalore', 'Delhi', 'Chennai', 'Mumbai'],\n",
       "      dtype=object)"
      ]
     },
     "execution_count": 230,
     "metadata": {},
     "output_type": "execute_result"
    }
   ],
   "source": [
    "x_flight.source_city.unique()"
   ]
  },
  {
   "cell_type": "code",
   "execution_count": 231,
   "metadata": {},
   "outputs": [
    {
     "data": {
      "text/plain": [
       "array(['Mumbai', 'Chennai', 'Kolkata', 'Delhi', 'Bangalore', 'Hyderabad'],\n",
       "      dtype=object)"
      ]
     },
     "execution_count": 231,
     "metadata": {},
     "output_type": "execute_result"
    }
   ],
   "source": [
    "x_flight.destination_city.unique()"
   ]
  },
  {
   "cell_type": "code",
   "execution_count": 232,
   "metadata": {},
   "outputs": [
    {
     "data": {
      "text/plain": [
       "array(['Early_Morning', 'Morning', 'Night', 'Afternoon', 'Evening',\n",
       "       'Late_Night'], dtype=object)"
      ]
     },
     "execution_count": 232,
     "metadata": {},
     "output_type": "execute_result"
    }
   ],
   "source": [
    "x_flight.departure_time.unique()"
   ]
  },
  {
   "cell_type": "code",
   "execution_count": 233,
   "metadata": {},
   "outputs": [
    {
     "data": {
      "text/plain": [
       "array(['Night', 'Evening', 'Morning', 'Afternoon', 'Early_Morning',\n",
       "       'Late_Night'], dtype=object)"
      ]
     },
     "execution_count": 233,
     "metadata": {},
     "output_type": "execute_result"
    }
   ],
   "source": [
    "x_flight.arrival_time.unique()"
   ]
  },
  {
   "cell_type": "markdown",
   "metadata": {},
   "source": [
    "## The data and graph below shows the number of flights from each city (souce_city & destination_city) "
   ]
  },
  {
   "cell_type": "code",
   "execution_count": 234,
   "metadata": {},
   "outputs": [
    {
     "data": {
      "text/html": [
       "<div>\n",
       "<style scoped>\n",
       "    .dataframe tbody tr th:only-of-type {\n",
       "        vertical-align: middle;\n",
       "    }\n",
       "\n",
       "    .dataframe tbody tr th {\n",
       "        vertical-align: top;\n",
       "    }\n",
       "\n",
       "    .dataframe thead th {\n",
       "        text-align: right;\n",
       "    }\n",
       "</style>\n",
       "<table border=\"1\" class=\"dataframe\">\n",
       "  <thead>\n",
       "    <tr style=\"text-align: right;\">\n",
       "      <th></th>\n",
       "      <th>source_city</th>\n",
       "      <th>flight</th>\n",
       "    </tr>\n",
       "  </thead>\n",
       "  <tbody>\n",
       "    <tr>\n",
       "      <th>5</th>\n",
       "      <td>Mumbai</td>\n",
       "      <td>689</td>\n",
       "    </tr>\n",
       "    <tr>\n",
       "      <th>2</th>\n",
       "      <td>Delhi</td>\n",
       "      <td>682</td>\n",
       "    </tr>\n",
       "    <tr>\n",
       "      <th>0</th>\n",
       "      <td>Bangalore</td>\n",
       "      <td>614</td>\n",
       "    </tr>\n",
       "    <tr>\n",
       "      <th>1</th>\n",
       "      <td>Chennai</td>\n",
       "      <td>456</td>\n",
       "    </tr>\n",
       "    <tr>\n",
       "      <th>4</th>\n",
       "      <td>Kolkata</td>\n",
       "      <td>455</td>\n",
       "    </tr>\n",
       "    <tr>\n",
       "      <th>3</th>\n",
       "      <td>Hyderabad</td>\n",
       "      <td>451</td>\n",
       "    </tr>\n",
       "  </tbody>\n",
       "</table>\n",
       "</div>"
      ],
      "text/plain": [
       "  source_city  flight\n",
       "5      Mumbai     689\n",
       "2       Delhi     682\n",
       "0   Bangalore     614\n",
       "1     Chennai     456\n",
       "4     Kolkata     455\n",
       "3   Hyderabad     451"
      ]
     },
     "execution_count": 234,
     "metadata": {},
     "output_type": "execute_result"
    }
   ],
   "source": [
    "Top_cities_flights = x_flight.groupby(\"source_city\")[\"flight\"].count().reset_index().sort_values(\"flight\", ascending=False)\n",
    "Top_cities_flights"
   ]
  },
  {
   "cell_type": "code",
   "execution_count": 235,
   "metadata": {},
   "outputs": [
    {
     "data": {
      "text/html": [
       "<div>\n",
       "<style scoped>\n",
       "    .dataframe tbody tr th:only-of-type {\n",
       "        vertical-align: middle;\n",
       "    }\n",
       "\n",
       "    .dataframe tbody tr th {\n",
       "        vertical-align: top;\n",
       "    }\n",
       "\n",
       "    .dataframe thead th {\n",
       "        text-align: right;\n",
       "    }\n",
       "</style>\n",
       "<table border=\"1\" class=\"dataframe\">\n",
       "  <thead>\n",
       "    <tr style=\"text-align: right;\">\n",
       "      <th></th>\n",
       "      <th>destination_city</th>\n",
       "      <th>flight</th>\n",
       "    </tr>\n",
       "  </thead>\n",
       "  <tbody>\n",
       "    <tr>\n",
       "      <th>5</th>\n",
       "      <td>Mumbai</td>\n",
       "      <td>710</td>\n",
       "    </tr>\n",
       "    <tr>\n",
       "      <th>2</th>\n",
       "      <td>Delhi</td>\n",
       "      <td>585</td>\n",
       "    </tr>\n",
       "    <tr>\n",
       "      <th>3</th>\n",
       "      <td>Hyderabad</td>\n",
       "      <td>530</td>\n",
       "    </tr>\n",
       "    <tr>\n",
       "      <th>0</th>\n",
       "      <td>Bangalore</td>\n",
       "      <td>524</td>\n",
       "    </tr>\n",
       "    <tr>\n",
       "      <th>4</th>\n",
       "      <td>Kolkata</td>\n",
       "      <td>512</td>\n",
       "    </tr>\n",
       "    <tr>\n",
       "      <th>1</th>\n",
       "      <td>Chennai</td>\n",
       "      <td>486</td>\n",
       "    </tr>\n",
       "  </tbody>\n",
       "</table>\n",
       "</div>"
      ],
      "text/plain": [
       "  destination_city  flight\n",
       "5           Mumbai     710\n",
       "2            Delhi     585\n",
       "3        Hyderabad     530\n",
       "0        Bangalore     524\n",
       "4          Kolkata     512\n",
       "1          Chennai     486"
      ]
     },
     "execution_count": 235,
     "metadata": {},
     "output_type": "execute_result"
    }
   ],
   "source": [
    "Top_cities_flights = x_flight.groupby(\"destination_city\")[\"flight\"].count().reset_index().sort_values(\"flight\", ascending=False)\n",
    "Top_cities_flights"
   ]
  },
  {
   "cell_type": "code",
   "execution_count": 236,
   "metadata": {
    "scrolled": true
   },
   "outputs": [
    {
     "data": {
      "image/png": "[encoded data removed]",
      "text/plain": [
       "<Figure size 864x360 with 1 Axes>"
      ]
     },
     "metadata": {
      "needs_background": "light"
     },
     "output_type": "display_data"
    }
   ],
   "source": [
    "Top_cities_flights = x_flight.groupby(\"source_city\")[\"flight\"].count().reset_index().sort_values(\"flight\", ascending=False)\n",
    "fig = plt.figure(figsize=(12,5))\n",
    "plt.title('Source cities with the highest numbers of flight',size = 20)\n",
    "flight = sns.barplot(data = Top_cities_flights, x = 'source_city', y = 'flight', edgecolor = 'none')\n",
    "plt.xlabel('source_city', size=15)\n",
    "plt.ylabel('flight', size=15)\n",
    "plt.show()"
   ]
  },
  {
   "cell_type": "code",
   "execution_count": 237,
   "metadata": {},
   "outputs": [
    {
     "data": {
      "image/png": "[encoded data removed]",
      "text/plain": [
       "<Figure size 864x360 with 1 Axes>"
      ]
     },
     "metadata": {
      "needs_background": "light"
     },
     "output_type": "display_data"
    }
   ],
   "source": [
    "Top_cities_flights = x_flight.groupby(\"destination_city\")[\"flight\"].count().reset_index().sort_values(\"flight\", ascending=False)\n",
    "fig = plt.figure(figsize=(12,5))\n",
    "plt.title('Destination Cities with the highest numbers of flight',size = 20)\n",
    "flight = sns.barplot(data = Top_cities_flights, x = 'destination_city', y = 'flight', edgecolor = 'none', palette='Accent')\n",
    "plt.xlabel('destination_city', size=15)\n",
    "plt.ylabel('flight', size=15)\n",
    "plt.show()"
   ]
  },
  {
   "cell_type": "markdown",
   "metadata": {},
   "source": [
    "## The data below shows the most used AIRLINE and the most used FLIGHT"
   ]
  },
  {
   "cell_type": "code",
   "execution_count": 238,
   "metadata": {},
   "outputs": [
    {
     "data": {
      "text/plain": [
       "Vistara      2137\n",
       "Air_India    1205\n",
       "Indigo          2\n",
       "AirAsia         1\n",
       "SpiceJet        1\n",
       "GO_FIRST        1\n",
       "Name: airline, dtype: int64"
      ]
     },
     "execution_count": 238,
     "metadata": {},
     "output_type": "execute_result"
    }
   ],
   "source": [
    "#ARILINE\n",
    "most_used_airline = x_flight.airline.value_counts()\n",
    "most_used_airline"
   ]
  },
  {
   "cell_type": "code",
   "execution_count": 239,
   "metadata": {},
   "outputs": [
    {
     "data": {
      "text/plain": [
       "UK-772    63\n",
       "UK-860    48\n",
       "UK-836    45\n",
       "UK-870    44\n",
       "UK-720    43\n",
       "UK-874    42\n",
       "UK-706    42\n",
       "UK-822    40\n",
       "UK-854    39\n",
       "UK-878    38\n",
       "Name: flight, dtype: int64"
      ]
     },
     "execution_count": 239,
     "metadata": {},
     "output_type": "execute_result"
    }
   ],
   "source": [
    "#FLIGHT\n",
    "most_used_flight = x_flight.flight.value_counts()\n",
    "most_used_flight.iloc[:10]"
   ]
  },
  {
   "cell_type": "markdown",
   "metadata": {},
   "source": [
    "## This data and graph shows the top 10 cities and flight with the most expensive flight fee"
   ]
  },
  {
   "cell_type": "code",
   "execution_count": 240,
   "metadata": {},
   "outputs": [
    {
     "data": {
      "text/html": [
       "<div>\n",
       "<style scoped>\n",
       "    .dataframe tbody tr th:only-of-type {\n",
       "        vertical-align: middle;\n",
       "    }\n",
       "\n",
       "    .dataframe tbody tr th {\n",
       "        vertical-align: top;\n",
       "    }\n",
       "\n",
       "    .dataframe thead th {\n",
       "        text-align: right;\n",
       "    }\n",
       "</style>\n",
       "<table border=\"1\" class=\"dataframe\">\n",
       "  <thead>\n",
       "    <tr style=\"text-align: right;\">\n",
       "      <th></th>\n",
       "      <th>flight_id</th>\n",
       "      <th>airline</th>\n",
       "      <th>flight</th>\n",
       "      <th>source_city</th>\n",
       "      <th>departure_time</th>\n",
       "      <th>stops</th>\n",
       "      <th>arrival_time</th>\n",
       "      <th>destination_city</th>\n",
       "      <th>duration</th>\n",
       "      <th>days_left</th>\n",
       "      <th>flight_fee</th>\n",
       "    </tr>\n",
       "  </thead>\n",
       "  <tbody>\n",
       "    <tr>\n",
       "      <th>2245</th>\n",
       "      <td>248804</td>\n",
       "      <td>Vistara</td>\n",
       "      <td>UK-657</td>\n",
       "      <td>Bangalore</td>\n",
       "      <td>Morning</td>\n",
       "      <td>two_or_more</td>\n",
       "      <td>Night</td>\n",
       "      <td>Mumbai</td>\n",
       "      <td>8.58</td>\n",
       "      <td>3</td>\n",
       "      <td>103819</td>\n",
       "    </tr>\n",
       "    <tr>\n",
       "      <th>3198</th>\n",
       "      <td>290565</td>\n",
       "      <td>Vistara</td>\n",
       "      <td>UK-832</td>\n",
       "      <td>Chennai</td>\n",
       "      <td>Early_Morning</td>\n",
       "      <td>one</td>\n",
       "      <td>Evening</td>\n",
       "      <td>Mumbai</td>\n",
       "      <td>12.17</td>\n",
       "      <td>5</td>\n",
       "      <td>103056</td>\n",
       "    </tr>\n",
       "    <tr>\n",
       "      <th>2300</th>\n",
       "      <td>290690</td>\n",
       "      <td>Vistara</td>\n",
       "      <td>UK-838</td>\n",
       "      <td>Chennai</td>\n",
       "      <td>Night</td>\n",
       "      <td>one</td>\n",
       "      <td>Afternoon</td>\n",
       "      <td>Mumbai</td>\n",
       "      <td>17.92</td>\n",
       "      <td>7</td>\n",
       "      <td>98912</td>\n",
       "    </tr>\n",
       "    <tr>\n",
       "      <th>2037</th>\n",
       "      <td>241877</td>\n",
       "      <td>Vistara</td>\n",
       "      <td>UK-902</td>\n",
       "      <td>Mumbai</td>\n",
       "      <td>Afternoon</td>\n",
       "      <td>one</td>\n",
       "      <td>Morning</td>\n",
       "      <td>Chennai</td>\n",
       "      <td>18.17</td>\n",
       "      <td>7</td>\n",
       "      <td>98076</td>\n",
       "    </tr>\n",
       "    <tr>\n",
       "      <th>358</th>\n",
       "      <td>271148</td>\n",
       "      <td>Vistara</td>\n",
       "      <td>UK-772</td>\n",
       "      <td>Kolkata</td>\n",
       "      <td>Morning</td>\n",
       "      <td>one</td>\n",
       "      <td>Night</td>\n",
       "      <td>Hyderabad</td>\n",
       "      <td>12.50</td>\n",
       "      <td>20</td>\n",
       "      <td>97681</td>\n",
       "    </tr>\n",
       "    <tr>\n",
       "      <th>2668</th>\n",
       "      <td>271292</td>\n",
       "      <td>Vistara</td>\n",
       "      <td>UK-772</td>\n",
       "      <td>Kolkata</td>\n",
       "      <td>Morning</td>\n",
       "      <td>one</td>\n",
       "      <td>Evening</td>\n",
       "      <td>Hyderabad</td>\n",
       "      <td>9.50</td>\n",
       "      <td>23</td>\n",
       "      <td>97681</td>\n",
       "    </tr>\n",
       "    <tr>\n",
       "      <th>858</th>\n",
       "      <td>230762</td>\n",
       "      <td>Vistara</td>\n",
       "      <td>UK-930</td>\n",
       "      <td>Mumbai</td>\n",
       "      <td>Early_Morning</td>\n",
       "      <td>one</td>\n",
       "      <td>Evening</td>\n",
       "      <td>Bangalore</td>\n",
       "      <td>9.50</td>\n",
       "      <td>10</td>\n",
       "      <td>95819</td>\n",
       "    </tr>\n",
       "    <tr>\n",
       "      <th>3271</th>\n",
       "      <td>267528</td>\n",
       "      <td>Vistara</td>\n",
       "      <td>UK-738</td>\n",
       "      <td>Kolkata</td>\n",
       "      <td>Evening</td>\n",
       "      <td>one</td>\n",
       "      <td>Morning</td>\n",
       "      <td>Bangalore</td>\n",
       "      <td>17.08</td>\n",
       "      <td>5</td>\n",
       "      <td>95183</td>\n",
       "    </tr>\n",
       "    <tr>\n",
       "      <th>1209</th>\n",
       "      <td>295999</td>\n",
       "      <td>Vistara</td>\n",
       "      <td>UK-838</td>\n",
       "      <td>Chennai</td>\n",
       "      <td>Night</td>\n",
       "      <td>one</td>\n",
       "      <td>Evening</td>\n",
       "      <td>Kolkata</td>\n",
       "      <td>21.00</td>\n",
       "      <td>3</td>\n",
       "      <td>93984</td>\n",
       "    </tr>\n",
       "    <tr>\n",
       "      <th>1428</th>\n",
       "      <td>216024</td>\n",
       "      <td>Vistara</td>\n",
       "      <td>UK-955</td>\n",
       "      <td>Delhi</td>\n",
       "      <td>Evening</td>\n",
       "      <td>one</td>\n",
       "      <td>Evening</td>\n",
       "      <td>Kolkata</td>\n",
       "      <td>23.08</td>\n",
       "      <td>4</td>\n",
       "      <td>93417</td>\n",
       "    </tr>\n",
       "  </tbody>\n",
       "</table>\n",
       "</div>"
      ],
      "text/plain": [
       "      flight_id  airline  flight source_city departure_time        stops  \\\n",
       "2245     248804  Vistara  UK-657   Bangalore        Morning  two_or_more   \n",
       "3198     290565  Vistara  UK-832     Chennai  Early_Morning          one   \n",
       "2300     290690  Vistara  UK-838     Chennai          Night          one   \n",
       "2037     241877  Vistara  UK-902      Mumbai      Afternoon          one   \n",
       "358      271148  Vistara  UK-772     Kolkata        Morning          one   \n",
       "2668     271292  Vistara  UK-772     Kolkata        Morning          one   \n",
       "858      230762  Vistara  UK-930      Mumbai  Early_Morning          one   \n",
       "3271     267528  Vistara  UK-738     Kolkata        Evening          one   \n",
       "1209     295999  Vistara  UK-838     Chennai          Night          one   \n",
       "1428     216024  Vistara  UK-955       Delhi        Evening          one   \n",
       "\n",
       "     arrival_time destination_city  duration  days_left  flight_fee  \n",
       "2245        Night           Mumbai      8.58          3      103819  \n",
       "3198      Evening           Mumbai     12.17          5      103056  \n",
       "2300    Afternoon           Mumbai     17.92          7       98912  \n",
       "2037      Morning          Chennai     18.17          7       98076  \n",
       "358         Night        Hyderabad     12.50         20       97681  \n",
       "2668      Evening        Hyderabad      9.50         23       97681  \n",
       "858       Evening        Bangalore      9.50         10       95819  \n",
       "3271      Morning        Bangalore     17.08          5       95183  \n",
       "1209      Evening          Kolkata     21.00          3       93984  \n",
       "1428      Evening          Kolkata     23.08          4       93417  "
      ]
     },
     "execution_count": 240,
     "metadata": {},
     "output_type": "execute_result"
    }
   ],
   "source": [
    "most_expensive_flights = x_flight.sort_values('flight_fee', ascending=False)\n",
    "most_expensive_flights.iloc[:10]"
   ]
  },
  {
   "cell_type": "code",
   "execution_count": 242,
   "metadata": {
    "scrolled": true
   },
   "outputs": [
    {
     "data": {
      "image/png": "[encoded data removed]",
      "text/plain": [
       "<Figure size 864x288 with 1 Axes>"
      ]
     },
     "metadata": {
      "needs_background": "light"
     },
     "output_type": "display_data"
    }
   ],
   "source": [
    "most_expensive_flight = x_flight.sort_values('flight_fee', ascending=False)\n",
    "fig = plt.figure(figsize=(12,4))\n",
    "plt.title('Top Expensive Flights', size=28)\n",
    "flight = sns.barplot(data=most_expensive_flight.iloc[:15], x='flight', y='flight_fee', linewidth=2, edgecolor='none', palette='Set2')\n",
    "plt.xlabel('Flight', size=15)\n",
    "plt.ylabel('Flight_fee', size=15)\n",
    "plt.show()"
   ]
  },
  {
   "cell_type": "markdown",
   "metadata": {},
   "source": [
    "## Top 10 flight with the highest number of duration"
   ]
  },
  {
   "cell_type": "code",
   "execution_count": 211,
   "metadata": {},
   "outputs": [
    {
     "data": {
      "text/html": [
       "<div>\n",
       "<style scoped>\n",
       "    .dataframe tbody tr th:only-of-type {\n",
       "        vertical-align: middle;\n",
       "    }\n",
       "\n",
       "    .dataframe tbody tr th {\n",
       "        vertical-align: top;\n",
       "    }\n",
       "\n",
       "    .dataframe thead th {\n",
       "        text-align: right;\n",
       "    }\n",
       "</style>\n",
       "<table border=\"1\" class=\"dataframe\">\n",
       "  <thead>\n",
       "    <tr style=\"text-align: right;\">\n",
       "      <th></th>\n",
       "      <th>flight_id</th>\n",
       "      <th>airline</th>\n",
       "      <th>flight</th>\n",
       "      <th>source_city</th>\n",
       "      <th>departure_time</th>\n",
       "      <th>stops</th>\n",
       "      <th>arrival_time</th>\n",
       "      <th>destination_city</th>\n",
       "      <th>duration</th>\n",
       "      <th>days_left</th>\n",
       "      <th>flight_fee</th>\n",
       "    </tr>\n",
       "  </thead>\n",
       "  <tbody>\n",
       "    <tr>\n",
       "      <th>1275</th>\n",
       "      <td>260992</td>\n",
       "      <td>Air_India</td>\n",
       "      <td>AI-640</td>\n",
       "      <td>Bangalore</td>\n",
       "      <td>Early_Morning</td>\n",
       "      <td>one</td>\n",
       "      <td>Evening</td>\n",
       "      <td>Chennai</td>\n",
       "      <td>36.17</td>\n",
       "      <td>44</td>\n",
       "      <td>55122</td>\n",
       "    </tr>\n",
       "    <tr>\n",
       "      <th>1616</th>\n",
       "      <td>267405</td>\n",
       "      <td>Vistara</td>\n",
       "      <td>UK-720</td>\n",
       "      <td>Kolkata</td>\n",
       "      <td>Early_Morning</td>\n",
       "      <td>one</td>\n",
       "      <td>Evening</td>\n",
       "      <td>Bangalore</td>\n",
       "      <td>35.08</td>\n",
       "      <td>3</td>\n",
       "      <td>82729</td>\n",
       "    </tr>\n",
       "    <tr>\n",
       "      <th>583</th>\n",
       "      <td>268648</td>\n",
       "      <td>Vistara</td>\n",
       "      <td>UK-720</td>\n",
       "      <td>Kolkata</td>\n",
       "      <td>Early_Morning</td>\n",
       "      <td>one</td>\n",
       "      <td>Evening</td>\n",
       "      <td>Bangalore</td>\n",
       "      <td>35.08</td>\n",
       "      <td>23</td>\n",
       "      <td>75550</td>\n",
       "    </tr>\n",
       "    <tr>\n",
       "      <th>896</th>\n",
       "      <td>260646</td>\n",
       "      <td>Vistara</td>\n",
       "      <td>UK-867</td>\n",
       "      <td>Bangalore</td>\n",
       "      <td>Afternoon</td>\n",
       "      <td>two_or_more</td>\n",
       "      <td>Night</td>\n",
       "      <td>Chennai</td>\n",
       "      <td>34.33</td>\n",
       "      <td>37</td>\n",
       "      <td>66778</td>\n",
       "    </tr>\n",
       "    <tr>\n",
       "      <th>1287</th>\n",
       "      <td>268260</td>\n",
       "      <td>Vistara</td>\n",
       "      <td>UK-706</td>\n",
       "      <td>Kolkata</td>\n",
       "      <td>Morning</td>\n",
       "      <td>one</td>\n",
       "      <td>Evening</td>\n",
       "      <td>Bangalore</td>\n",
       "      <td>32.00</td>\n",
       "      <td>17</td>\n",
       "      <td>67710</td>\n",
       "    </tr>\n",
       "    <tr>\n",
       "      <th>496</th>\n",
       "      <td>270200</td>\n",
       "      <td>Vistara</td>\n",
       "      <td>UK-706</td>\n",
       "      <td>Kolkata</td>\n",
       "      <td>Morning</td>\n",
       "      <td>one</td>\n",
       "      <td>Evening</td>\n",
       "      <td>Bangalore</td>\n",
       "      <td>32.00</td>\n",
       "      <td>48</td>\n",
       "      <td>67710</td>\n",
       "    </tr>\n",
       "    <tr>\n",
       "      <th>1729</th>\n",
       "      <td>267457</td>\n",
       "      <td>Vistara</td>\n",
       "      <td>UK-706</td>\n",
       "      <td>Kolkata</td>\n",
       "      <td>Morning</td>\n",
       "      <td>one</td>\n",
       "      <td>Evening</td>\n",
       "      <td>Bangalore</td>\n",
       "      <td>32.00</td>\n",
       "      <td>4</td>\n",
       "      <td>67710</td>\n",
       "    </tr>\n",
       "    <tr>\n",
       "      <th>3064</th>\n",
       "      <td>260993</td>\n",
       "      <td>Vistara</td>\n",
       "      <td>UK-867</td>\n",
       "      <td>Bangalore</td>\n",
       "      <td>Afternoon</td>\n",
       "      <td>two_or_more</td>\n",
       "      <td>Evening</td>\n",
       "      <td>Chennai</td>\n",
       "      <td>31.17</td>\n",
       "      <td>44</td>\n",
       "      <td>59106</td>\n",
       "    </tr>\n",
       "    <tr>\n",
       "      <th>959</th>\n",
       "      <td>259550</td>\n",
       "      <td>Vistara</td>\n",
       "      <td>UK-867</td>\n",
       "      <td>Bangalore</td>\n",
       "      <td>Afternoon</td>\n",
       "      <td>two_or_more</td>\n",
       "      <td>Evening</td>\n",
       "      <td>Chennai</td>\n",
       "      <td>31.17</td>\n",
       "      <td>16</td>\n",
       "      <td>67842</td>\n",
       "    </tr>\n",
       "    <tr>\n",
       "      <th>1350</th>\n",
       "      <td>266266</td>\n",
       "      <td>Air_India</td>\n",
       "      <td>AI-424</td>\n",
       "      <td>Kolkata</td>\n",
       "      <td>Afternoon</td>\n",
       "      <td>one</td>\n",
       "      <td>Evening</td>\n",
       "      <td>Mumbai</td>\n",
       "      <td>30.50</td>\n",
       "      <td>34</td>\n",
       "      <td>50271</td>\n",
       "    </tr>\n",
       "  </tbody>\n",
       "</table>\n",
       "</div>"
      ],
      "text/plain": [
       "      flight_id    airline  flight source_city departure_time        stops  \\\n",
       "1275     260992  Air_India  AI-640   Bangalore  Early_Morning          one   \n",
       "1616     267405    Vistara  UK-720     Kolkata  Early_Morning          one   \n",
       "583      268648    Vistara  UK-720     Kolkata  Early_Morning          one   \n",
       "896      260646    Vistara  UK-867   Bangalore      Afternoon  two_or_more   \n",
       "1287     268260    Vistara  UK-706     Kolkata        Morning          one   \n",
       "496      270200    Vistara  UK-706     Kolkata        Morning          one   \n",
       "1729     267457    Vistara  UK-706     Kolkata        Morning          one   \n",
       "3064     260993    Vistara  UK-867   Bangalore      Afternoon  two_or_more   \n",
       "959      259550    Vistara  UK-867   Bangalore      Afternoon  two_or_more   \n",
       "1350     266266  Air_India  AI-424     Kolkata      Afternoon          one   \n",
       "\n",
       "     arrival_time destination_city  duration  days_left  flight_fee  \n",
       "1275      Evening          Chennai     36.17         44       55122  \n",
       "1616      Evening        Bangalore     35.08          3       82729  \n",
       "583       Evening        Bangalore     35.08         23       75550  \n",
       "896         Night          Chennai     34.33         37       66778  \n",
       "1287      Evening        Bangalore     32.00         17       67710  \n",
       "496       Evening        Bangalore     32.00         48       67710  \n",
       "1729      Evening        Bangalore     32.00          4       67710  \n",
       "3064      Evening          Chennai     31.17         44       59106  \n",
       "959       Evening          Chennai     31.17         16       67842  \n",
       "1350      Evening           Mumbai     30.50         34       50271  "
      ]
     },
     "execution_count": 211,
     "metadata": {},
     "output_type": "execute_result"
    }
   ],
   "source": [
    "long_flights = x_flight.sort_values('duration', ascending=False)\n",
    "long_flights.head(10)"
   ]
  },
  {
   "cell_type": "markdown",
   "metadata": {},
   "source": [
    "## The total number of stops made"
   ]
  },
  {
   "cell_type": "code",
   "execution_count": 212,
   "metadata": {},
   "outputs": [
    {
     "data": {
      "text/plain": [
       "array(['one', 'zero', 'two_or_more'], dtype=object)"
      ]
     },
     "execution_count": 212,
     "metadata": {},
     "output_type": "execute_result"
    }
   ],
   "source": [
    "x_flight.stops.unique()"
   ]
  },
  {
   "cell_type": "code",
   "execution_count": 213,
   "metadata": {},
   "outputs": [
    {
     "data": {
      "text/plain": [
       "one            3028\n",
       "zero            280\n",
       "two_or_more      39\n",
       "Name: stops, dtype: int64"
      ]
     },
     "execution_count": 213,
     "metadata": {},
     "output_type": "execute_result"
    }
   ],
   "source": [
    "more_flights = x_flight.stops.value_counts()\n",
    "more_flights"
   ]
  },
  {
   "cell_type": "code",
   "execution_count": 215,
   "metadata": {},
   "outputs": [
    {
     "data": {
      "image/png": "[encoded data removed]",
      "text/plain": [
       "<Figure size 432x288 with 1 Axes>"
      ]
     },
     "metadata": {},
     "output_type": "display_data"
    }
   ],
   "source": [
    "x_flight = [3028, 280, 39]\n",
    "labels = ['one', 'zero', 'two_or_more']\n",
    "colors = sns.color_palette('bright')[0:20]\n",
    "plt.pie(x_flight, labels = labels, colors = colors, autopct='%.0f%%')\n",
    "plt.title('Number of stops')\n",
    "plt.show()"
   ]
  },
  {
   "cell_type": "code",
   "execution_count": null,
   "metadata": {},
   "outputs": [],
   "source": []
  }
 ],
 "metadata": {
  "kernelspec": {
   "display_name": "Python 3",
   "language": "python",
   "name": "python3"
  },
  "language_info": {
   "codemirror_mode": {
    "name": "ipython",
    "version": 3
   },
   "file_extension": ".py",
   "mimetype": "text/x-python",
   "name": "python",
   "nbconvert_exporter": "python",
   "pygments_lexer": "ipython3",
   "version": "3.8.3"
  },
  "widgets": {
   "application/vnd.jupyter.widget-state+json": {
    "state": {},
    "version_major": 2,
    "version_minor": 0
   }
  }
 },
 "nbformat": 4,
 "nbformat_minor": 4
}
