{
 "cells": [
  {
   "cell_type": "markdown",
   "metadata": {},
   "source": [
    "# Importing All Neccessary Libraries"
   ]
  },
  {
   "cell_type": "code",
   "execution_count": 1,
   "metadata": {},
   "outputs": [],
   "source": [
    "import numpy as np\n",
    "import pandas as pd\n",
    "import matplotlib.pyplot as plt\n",
    "import seaborn as sns\n",
    "%matplotlib inline"
   ]
  },
  {
   "cell_type": "markdown",
   "metadata": {},
   "source": [
    "# Importing The superstoredata dataset using pd.read_csv library"
   ]
  },
  {
   "cell_type": "code",
   "execution_count": 2,
   "metadata": {},
   "outputs": [],
   "source": [
    "superstoredata = pd.read_csv('C:/Users/EMMANUEL UDOH/superstoredata.csv')"
   ]
  },
  {
   "cell_type": "code",
   "execution_count": 4,
   "metadata": {},
   "outputs": [
    {
     "data": {
      "text/html": [
       "<div>\n",
       "<style scoped>\n",
       "    .dataframe tbody tr th:only-of-type {\n",
       "        vertical-align: middle;\n",
       "    }\n",
       "\n",
       "    .dataframe tbody tr th {\n",
       "        vertical-align: top;\n",
       "    }\n",
       "\n",
       "    .dataframe thead th {\n",
       "        text-align: right;\n",
       "    }\n",
       "</style>\n",
       "<table border=\"1\" class=\"dataframe\">\n",
       "  <thead>\n",
       "    <tr style=\"text-align: right;\">\n",
       "      <th></th>\n",
       "      <th>row_num</th>\n",
       "      <th>customer_id</th>\n",
       "      <th>customer_name</th>\n",
       "      <th>state</th>\n",
       "      <th>region</th>\n",
       "      <th>order_id</th>\n",
       "      <th>order_date</th>\n",
       "      <th>ship_date</th>\n",
       "      <th>ship_mode</th>\n",
       "      <th>product_id</th>\n",
       "      <th>product_name</th>\n",
       "      <th>quantity</th>\n",
       "      <th>supply_rate</th>\n",
       "      <th>sales</th>\n",
       "      <th>profit</th>\n",
       "      <th>highest_sales</th>\n",
       "      <th>highest_profit</th>\n",
       "    </tr>\n",
       "  </thead>\n",
       "  <tbody>\n",
       "    <tr>\n",
       "      <th>0</th>\n",
       "      <td>48</td>\n",
       "      <td>10225</td>\n",
       "      <td>Alan Schoenberger</td>\n",
       "      <td>Alabama</td>\n",
       "      <td>South</td>\n",
       "      <td>103989</td>\n",
       "      <td>19/03/2013</td>\n",
       "      <td>21/03/2013</td>\n",
       "      <td>First Class</td>\n",
       "      <td>10002439</td>\n",
       "      <td>Chairs</td>\n",
       "      <td>7</td>\n",
       "      <td>medium supply</td>\n",
       "      <td>366.786</td>\n",
       "      <td>65.2064</td>\n",
       "      <td>Ben Peterman</td>\n",
       "      <td>Alan Schoenberger</td>\n",
       "    </tr>\n",
       "    <tr>\n",
       "      <th>1</th>\n",
       "      <td>73</td>\n",
       "      <td>20560</td>\n",
       "      <td>Skye Norling</td>\n",
       "      <td>Arizona</td>\n",
       "      <td>West</td>\n",
       "      <td>101770</td>\n",
       "      <td>31/03/2013</td>\n",
       "      <td>04/04/2013</td>\n",
       "      <td>Standard Class</td>\n",
       "      <td>10000688</td>\n",
       "      <td>Tables</td>\n",
       "      <td>3</td>\n",
       "      <td>low supply</td>\n",
       "      <td>653.550</td>\n",
       "      <td>111.1035</td>\n",
       "      <td>Barry Franz</td>\n",
       "      <td>Skye Norling</td>\n",
       "    </tr>\n",
       "    <tr>\n",
       "      <th>2</th>\n",
       "      <td>39</td>\n",
       "      <td>15655</td>\n",
       "      <td>Jim Mitchum</td>\n",
       "      <td>Arizona</td>\n",
       "      <td>West</td>\n",
       "      <td>110674</td>\n",
       "      <td>12/02/2013</td>\n",
       "      <td>18/02/2013</td>\n",
       "      <td>Standard Class</td>\n",
       "      <td>10001293</td>\n",
       "      <td>Appliances</td>\n",
       "      <td>2</td>\n",
       "      <td>low supply</td>\n",
       "      <td>81.960</td>\n",
       "      <td>22.9488</td>\n",
       "      <td>Barry Franz</td>\n",
       "      <td>Skye Norling</td>\n",
       "    </tr>\n",
       "    <tr>\n",
       "      <th>3</th>\n",
       "      <td>72</td>\n",
       "      <td>14875</td>\n",
       "      <td>Heather Jas</td>\n",
       "      <td>Arizona</td>\n",
       "      <td>West</td>\n",
       "      <td>113124</td>\n",
       "      <td>30/03/2013</td>\n",
       "      <td>05/04/2013</td>\n",
       "      <td>Standard Class</td>\n",
       "      <td>10004209</td>\n",
       "      <td>Binders</td>\n",
       "      <td>5</td>\n",
       "      <td>low supply</td>\n",
       "      <td>40.200</td>\n",
       "      <td>18.0900</td>\n",
       "      <td>Barry Franz</td>\n",
       "      <td>Skye Norling</td>\n",
       "    </tr>\n",
       "    <tr>\n",
       "      <th>4</th>\n",
       "      <td>2</td>\n",
       "      <td>15040</td>\n",
       "      <td>Hunter Lopez</td>\n",
       "      <td>Arkansas</td>\n",
       "      <td>South</td>\n",
       "      <td>149020</td>\n",
       "      <td>10/01/2013</td>\n",
       "      <td>15/01/2013</td>\n",
       "      <td>Standard Class</td>\n",
       "      <td>10000965</td>\n",
       "      <td>Furnishings</td>\n",
       "      <td>1</td>\n",
       "      <td>low supply</td>\n",
       "      <td>51.940</td>\n",
       "      <td>21.2954</td>\n",
       "      <td>Ben Peterman</td>\n",
       "      <td>Hunter Lopez</td>\n",
       "    </tr>\n",
       "  </tbody>\n",
       "</table>\n",
       "</div>"
      ],
      "text/plain": [
       "   row_num  customer_id      customer_name     state region  order_id  \\\n",
       "0       48        10225  Alan Schoenberger   Alabama  South    103989   \n",
       "1       73        20560       Skye Norling   Arizona   West    101770   \n",
       "2       39        15655        Jim Mitchum   Arizona   West    110674   \n",
       "3       72        14875        Heather Jas   Arizona   West    113124   \n",
       "4        2        15040       Hunter Lopez  Arkansas  South    149020   \n",
       "\n",
       "   order_date   ship_date       ship_mode  product_id product_name  quantity  \\\n",
       "0  19/03/2013  21/03/2013     First Class    10002439       Chairs         7   \n",
       "1  31/03/2013  04/04/2013  Standard Class    10000688       Tables         3   \n",
       "2  12/02/2013  18/02/2013  Standard Class    10001293   Appliances         2   \n",
       "3  30/03/2013  05/04/2013  Standard Class    10004209      Binders         5   \n",
       "4  10/01/2013  15/01/2013  Standard Class    10000965  Furnishings         1   \n",
       "\n",
       "     supply_rate    sales    profit highest_sales     highest_profit  \n",
       "0  medium supply  366.786   65.2064  Ben Peterman  Alan Schoenberger  \n",
       "1     low supply  653.550  111.1035   Barry Franz       Skye Norling  \n",
       "2     low supply   81.960   22.9488   Barry Franz       Skye Norling  \n",
       "3     low supply   40.200   18.0900   Barry Franz       Skye Norling  \n",
       "4     low supply   51.940   21.2954  Ben Peterman       Hunter Lopez  "
      ]
     },
     "execution_count": 4,
     "metadata": {},
     "output_type": "execute_result"
    }
   ],
   "source": [
    "superstoredata.head()"
   ]
  },
  {
   "cell_type": "code",
   "execution_count": 88,
   "metadata": {},
   "outputs": [
    {
     "data": {
      "text/html": [
       "<div>\n",
       "<style scoped>\n",
       "    .dataframe tbody tr th:only-of-type {\n",
       "        vertical-align: middle;\n",
       "    }\n",
       "\n",
       "    .dataframe tbody tr th {\n",
       "        vertical-align: top;\n",
       "    }\n",
       "\n",
       "    .dataframe thead th {\n",
       "        text-align: right;\n",
       "    }\n",
       "</style>\n",
       "<table border=\"1\" class=\"dataframe\">\n",
       "  <thead>\n",
       "    <tr style=\"text-align: right;\">\n",
       "      <th></th>\n",
       "      <th>row_num</th>\n",
       "      <th>customer_id</th>\n",
       "      <th>customer_name</th>\n",
       "      <th>state</th>\n",
       "      <th>region</th>\n",
       "      <th>order_id</th>\n",
       "      <th>order_date</th>\n",
       "      <th>ship_date</th>\n",
       "      <th>ship_mode</th>\n",
       "      <th>product_id</th>\n",
       "      <th>product_name</th>\n",
       "      <th>quantity</th>\n",
       "      <th>supply_rate</th>\n",
       "      <th>sales</th>\n",
       "      <th>profit</th>\n",
       "      <th>highest_sales</th>\n",
       "      <th>highest_profit</th>\n",
       "    </tr>\n",
       "  </thead>\n",
       "  <tbody>\n",
       "    <tr>\n",
       "      <th>71</th>\n",
       "      <td>36</td>\n",
       "      <td>17395</td>\n",
       "      <td>Marina Lichtenstein</td>\n",
       "      <td>Washington</td>\n",
       "      <td>West</td>\n",
       "      <td>146591</td>\n",
       "      <td>19/01/2013</td>\n",
       "      <td>20/01/2013</td>\n",
       "      <td>First Class</td>\n",
       "      <td>10000659</td>\n",
       "      <td>Paper</td>\n",
       "      <td>4</td>\n",
       "      <td>low supply</td>\n",
       "      <td>56.064</td>\n",
       "      <td>19.6224</td>\n",
       "      <td>Barry Franz</td>\n",
       "      <td>Dave Brooks</td>\n",
       "    </tr>\n",
       "    <tr>\n",
       "      <th>72</th>\n",
       "      <td>62</td>\n",
       "      <td>18685</td>\n",
       "      <td>Nora Pelletier</td>\n",
       "      <td>Washington</td>\n",
       "      <td>West</td>\n",
       "      <td>110422</td>\n",
       "      <td>21/01/2013</td>\n",
       "      <td>23/01/2013</td>\n",
       "      <td>Second Class</td>\n",
       "      <td>10001804</td>\n",
       "      <td>Paper</td>\n",
       "      <td>6</td>\n",
       "      <td>medium supply</td>\n",
       "      <td>40.080</td>\n",
       "      <td>19.2384</td>\n",
       "      <td>Barry Franz</td>\n",
       "      <td>Dave Brooks</td>\n",
       "    </tr>\n",
       "    <tr>\n",
       "      <th>73</th>\n",
       "      <td>50</td>\n",
       "      <td>17905</td>\n",
       "      <td>Michael Kennedy</td>\n",
       "      <td>Wisconsin</td>\n",
       "      <td>Central</td>\n",
       "      <td>155544</td>\n",
       "      <td>21/03/2013</td>\n",
       "      <td>25/03/2013</td>\n",
       "      <td>Standard Class</td>\n",
       "      <td>10002230</td>\n",
       "      <td>Envelopes</td>\n",
       "      <td>5</td>\n",
       "      <td>low supply</td>\n",
       "      <td>335.720</td>\n",
       "      <td>113.3055</td>\n",
       "      <td>Melanie Seite</td>\n",
       "      <td>Michael Kennedy</td>\n",
       "    </tr>\n",
       "    <tr>\n",
       "      <th>74</th>\n",
       "      <td>54</td>\n",
       "      <td>11110</td>\n",
       "      <td>Bart Watters</td>\n",
       "      <td>Wisconsin</td>\n",
       "      <td>Central</td>\n",
       "      <td>133424</td>\n",
       "      <td>30/03/2013</td>\n",
       "      <td>04/04/2013</td>\n",
       "      <td>Standard Class</td>\n",
       "      <td>10004071</td>\n",
       "      <td>Paper</td>\n",
       "      <td>1</td>\n",
       "      <td>low supply</td>\n",
       "      <td>55.480</td>\n",
       "      <td>26.6304</td>\n",
       "      <td>Melanie Seite</td>\n",
       "      <td>Michael Kennedy</td>\n",
       "    </tr>\n",
       "    <tr>\n",
       "      <th>75</th>\n",
       "      <td>28</td>\n",
       "      <td>19075</td>\n",
       "      <td>Pete Kriz</td>\n",
       "      <td>Wisconsin</td>\n",
       "      <td>Central</td>\n",
       "      <td>163223</td>\n",
       "      <td>21/03/2013</td>\n",
       "      <td>25/03/2013</td>\n",
       "      <td>Standard Class</td>\n",
       "      <td>10001915</td>\n",
       "      <td>Art</td>\n",
       "      <td>5</td>\n",
       "      <td>low supply</td>\n",
       "      <td>49.650</td>\n",
       "      <td>20.8530</td>\n",
       "      <td>Melanie Seite</td>\n",
       "      <td>Michael Kennedy</td>\n",
       "    </tr>\n",
       "  </tbody>\n",
       "</table>\n",
       "</div>"
      ],
      "text/plain": [
       "    row_num  customer_id        customer_name       state   region  order_id  \\\n",
       "71       36        17395  Marina Lichtenstein  Washington     West    146591   \n",
       "72       62        18685       Nora Pelletier  Washington     West    110422   \n",
       "73       50        17905      Michael Kennedy   Wisconsin  Central    155544   \n",
       "74       54        11110         Bart Watters   Wisconsin  Central    133424   \n",
       "75       28        19075            Pete Kriz   Wisconsin  Central    163223   \n",
       "\n",
       "    order_date   ship_date       ship_mode  product_id product_name  quantity  \\\n",
       "71  19/01/2013  20/01/2013     First Class    10000659        Paper         4   \n",
       "72  21/01/2013  23/01/2013    Second Class    10001804        Paper         6   \n",
       "73  21/03/2013  25/03/2013  Standard Class    10002230    Envelopes         5   \n",
       "74  30/03/2013  04/04/2013  Standard Class    10004071        Paper         1   \n",
       "75  21/03/2013  25/03/2013  Standard Class    10001915          Art         5   \n",
       "\n",
       "      supply_rate    sales    profit  highest_sales   highest_profit  \n",
       "71     low supply   56.064   19.6224    Barry Franz      Dave Brooks  \n",
       "72  medium supply   40.080   19.2384    Barry Franz      Dave Brooks  \n",
       "73     low supply  335.720  113.3055  Melanie Seite  Michael Kennedy  \n",
       "74     low supply   55.480   26.6304  Melanie Seite  Michael Kennedy  \n",
       "75     low supply   49.650   20.8530  Melanie Seite  Michael Kennedy  "
      ]
     },
     "execution_count": 88,
     "metadata": {},
     "output_type": "execute_result"
    }
   ],
   "source": [
    "superstoredata.tail()"
   ]
  },
  {
   "cell_type": "code",
   "execution_count": 5,
   "metadata": {},
   "outputs": [
    {
     "name": "stdout",
     "output_type": "stream",
     "text": [
      "<class 'pandas.core.frame.DataFrame'>\n",
      "RangeIndex: 76 entries, 0 to 75\n",
      "Data columns (total 17 columns):\n",
      " #   Column          Non-Null Count  Dtype  \n",
      "---  ------          --------------  -----  \n",
      " 0   row_num         76 non-null     int64  \n",
      " 1   customer_id     76 non-null     int64  \n",
      " 2   customer_name   76 non-null     object \n",
      " 3   state           76 non-null     object \n",
      " 4   region          76 non-null     object \n",
      " 5   order_id        76 non-null     int64  \n",
      " 6   order_date      76 non-null     object \n",
      " 7   ship_date       76 non-null     object \n",
      " 8   ship_mode       76 non-null     object \n",
      " 9   product_id      76 non-null     int64  \n",
      " 10  product_name    76 non-null     object \n",
      " 11  quantity        76 non-null     int64  \n",
      " 12  supply_rate     76 non-null     object \n",
      " 13  sales           76 non-null     float64\n",
      " 14  profit          76 non-null     float64\n",
      " 15  highest_sales   76 non-null     object \n",
      " 16  highest_profit  76 non-null     object \n",
      "dtypes: float64(2), int64(5), object(10)\n",
      "memory usage: 10.2+ KB\n"
     ]
    }
   ],
   "source": [
    "superstoredata.info()"
   ]
  },
  {
   "cell_type": "code",
   "execution_count": 6,
   "metadata": {},
   "outputs": [
    {
     "data": {
      "text/plain": [
       "(76, 17)"
      ]
     },
     "execution_count": 6,
     "metadata": {},
     "output_type": "execute_result"
    }
   ],
   "source": [
    "superstoredata.shape   #This shows the number of rows and columns in the data"
   ]
  },
  {
   "cell_type": "code",
   "execution_count": 7,
   "metadata": {},
   "outputs": [
    {
     "data": {
      "text/html": [
       "<div>\n",
       "<style scoped>\n",
       "    .dataframe tbody tr th:only-of-type {\n",
       "        vertical-align: middle;\n",
       "    }\n",
       "\n",
       "    .dataframe tbody tr th {\n",
       "        vertical-align: top;\n",
       "    }\n",
       "\n",
       "    .dataframe thead th {\n",
       "        text-align: right;\n",
       "    }\n",
       "</style>\n",
       "<table border=\"1\" class=\"dataframe\">\n",
       "  <thead>\n",
       "    <tr style=\"text-align: right;\">\n",
       "      <th></th>\n",
       "      <th>row_num</th>\n",
       "      <th>customer_id</th>\n",
       "      <th>order_id</th>\n",
       "      <th>product_id</th>\n",
       "      <th>quantity</th>\n",
       "      <th>sales</th>\n",
       "      <th>profit</th>\n",
       "    </tr>\n",
       "  </thead>\n",
       "  <tbody>\n",
       "    <tr>\n",
       "      <th>count</th>\n",
       "      <td>76.000000</td>\n",
       "      <td>76.000000</td>\n",
       "      <td>76.000000</td>\n",
       "      <td>7.600000e+01</td>\n",
       "      <td>76.000000</td>\n",
       "      <td>76.000000</td>\n",
       "      <td>76.000000</td>\n",
       "    </tr>\n",
       "    <tr>\n",
       "      <th>mean</th>\n",
       "      <td>38.500000</td>\n",
       "      <td>15445.789474</td>\n",
       "      <td>135906.881579</td>\n",
       "      <td>1.000250e+07</td>\n",
       "      <td>4.407895</td>\n",
       "      <td>468.158921</td>\n",
       "      <td>94.875654</td>\n",
       "    </tr>\n",
       "    <tr>\n",
       "      <th>std</th>\n",
       "      <td>22.083176</td>\n",
       "      <td>3431.640623</td>\n",
       "      <td>22487.854959</td>\n",
       "      <td>1.349554e+03</td>\n",
       "      <td>2.598346</td>\n",
       "      <td>719.418298</td>\n",
       "      <td>147.095986</td>\n",
       "    </tr>\n",
       "    <tr>\n",
       "      <th>min</th>\n",
       "      <td>1.000000</td>\n",
       "      <td>10225.000000</td>\n",
       "      <td>100881.000000</td>\n",
       "      <td>1.000008e+07</td>\n",
       "      <td>1.000000</td>\n",
       "      <td>35.880000</td>\n",
       "      <td>17.222400</td>\n",
       "    </tr>\n",
       "    <tr>\n",
       "      <th>25%</th>\n",
       "      <td>19.750000</td>\n",
       "      <td>12602.500000</td>\n",
       "      <td>113885.250000</td>\n",
       "      <td>1.000142e+07</td>\n",
       "      <td>2.000000</td>\n",
       "      <td>89.252000</td>\n",
       "      <td>26.340300</td>\n",
       "    </tr>\n",
       "    <tr>\n",
       "      <th>50%</th>\n",
       "      <td>38.500000</td>\n",
       "      <td>14987.500000</td>\n",
       "      <td>138397.500000</td>\n",
       "      <td>1.000226e+07</td>\n",
       "      <td>4.000000</td>\n",
       "      <td>158.325000</td>\n",
       "      <td>42.513450</td>\n",
       "    </tr>\n",
       "    <tr>\n",
       "      <th>75%</th>\n",
       "      <td>57.250000</td>\n",
       "      <td>18062.500000</td>\n",
       "      <td>156695.500000</td>\n",
       "      <td>1.000366e+07</td>\n",
       "      <td>6.000000</td>\n",
       "      <td>497.661000</td>\n",
       "      <td>88.344000</td>\n",
       "    </tr>\n",
       "    <tr>\n",
       "      <th>max</th>\n",
       "      <td>76.000000</td>\n",
       "      <td>21700.000000</td>\n",
       "      <td>169390.000000</td>\n",
       "      <td>1.000492e+07</td>\n",
       "      <td>14.000000</td>\n",
       "      <td>4164.050000</td>\n",
       "      <td>909.981800</td>\n",
       "    </tr>\n",
       "  </tbody>\n",
       "</table>\n",
       "</div>"
      ],
      "text/plain": [
       "         row_num   customer_id       order_id    product_id   quantity  \\\n",
       "count  76.000000     76.000000      76.000000  7.600000e+01  76.000000   \n",
       "mean   38.500000  15445.789474  135906.881579  1.000250e+07   4.407895   \n",
       "std    22.083176   3431.640623   22487.854959  1.349554e+03   2.598346   \n",
       "min     1.000000  10225.000000  100881.000000  1.000008e+07   1.000000   \n",
       "25%    19.750000  12602.500000  113885.250000  1.000142e+07   2.000000   \n",
       "50%    38.500000  14987.500000  138397.500000  1.000226e+07   4.000000   \n",
       "75%    57.250000  18062.500000  156695.500000  1.000366e+07   6.000000   \n",
       "max    76.000000  21700.000000  169390.000000  1.000492e+07  14.000000   \n",
       "\n",
       "             sales      profit  \n",
       "count    76.000000   76.000000  \n",
       "mean    468.158921   94.875654  \n",
       "std     719.418298  147.095986  \n",
       "min      35.880000   17.222400  \n",
       "25%      89.252000   26.340300  \n",
       "50%     158.325000   42.513450  \n",
       "75%     497.661000   88.344000  \n",
       "max    4164.050000  909.981800  "
      ]
     },
     "execution_count": 7,
     "metadata": {},
     "output_type": "execute_result"
    }
   ],
   "source": [
    "superstoredata.describe()"
   ]
  },
  {
   "cell_type": "code",
   "execution_count": 8,
   "metadata": {},
   "outputs": [
    {
     "data": {
      "text/plain": [
       "row_num           76\n",
       "customer_id       76\n",
       "customer_name     76\n",
       "state             76\n",
       "region            76\n",
       "order_id          76\n",
       "order_date        76\n",
       "ship_date         76\n",
       "ship_mode         76\n",
       "product_id        76\n",
       "product_name      76\n",
       "quantity          76\n",
       "supply_rate       76\n",
       "sales             76\n",
       "profit            76\n",
       "highest_sales     76\n",
       "highest_profit    76\n",
       "dtype: int64"
      ]
     },
     "execution_count": 8,
     "metadata": {},
     "output_type": "execute_result"
    }
   ],
   "source": [
    "superstoredata.count()"
   ]
  },
  {
   "cell_type": "code",
   "execution_count": 10,
   "metadata": {},
   "outputs": [
    {
     "data": {
      "text/plain": [
       "row_num           0\n",
       "customer_id       0\n",
       "customer_name     0\n",
       "state             0\n",
       "region            0\n",
       "order_id          0\n",
       "order_date        0\n",
       "ship_date         0\n",
       "ship_mode         0\n",
       "product_id        0\n",
       "product_name      0\n",
       "quantity          0\n",
       "supply_rate       0\n",
       "sales             0\n",
       "profit            0\n",
       "highest_sales     0\n",
       "highest_profit    0\n",
       "dtype: int64"
      ]
     },
     "execution_count": 10,
     "metadata": {},
     "output_type": "execute_result"
    }
   ],
   "source": [
    "superstoredata.isnull().sum()  #This checks for null values in the data. No null values present."
   ]
  },
  {
   "cell_type": "code",
   "execution_count": 12,
   "metadata": {},
   "outputs": [
    {
     "data": {
      "image/png": "[encoded data removed]",
      "text/plain": [
       "<Figure size 432x288 with 1 Axes>"
      ]
     },
     "metadata": {
      "needs_background": "light"
     },
     "output_type": "display_data"
    }
   ],
   "source": [
    "# barplot showing the mean and the estimated values from each region.\n",
    "# The black line represents the error bar which are representations of variability of data used on graph to indicate......\n",
    "# uncertianty in a measurement i.e the uncertainty of sales from each region.\n",
    "\n",
    "\n",
    "res = sns.barplot(superstoredata['region'], superstoredata['sales'])\n",
    "plt.show()"
   ]
  },
  {
   "cell_type": "code",
   "execution_count": 22,
   "metadata": {},
   "outputs": [
    {
     "data": {
      "image/png": "[encoded data removed]",
      "text/plain": [
       "<Figure size 432x288 with 1 Axes>"
      ]
     },
     "metadata": {
      "needs_background": "light"
     },
     "output_type": "display_data"
    }
   ],
   "source": [
    "# countplot showing the counts of observations from each region.\n",
    "\n",
    "res = sns.countplot(x='region', data=superstoredata, palette = \"Set1\", )\n",
    "plt.show()"
   ]
  },
  {
   "cell_type": "code",
   "execution_count": 29,
   "metadata": {},
   "outputs": [
    {
     "data": {
      "text/plain": [
       "<matplotlib.axes._subplots.AxesSubplot at 0x245d813f220>"
      ]
     },
     "execution_count": 29,
     "metadata": {},
     "output_type": "execute_result"
    },
    {
     "data": {
      "image/png": "[encoded data removed]",
      "text/plain": [
       "<Figure size 432x288 with 1 Axes>"
      ]
     },
     "metadata": {
      "needs_background": "light"
     },
     "output_type": "display_data"
    }
   ],
   "source": [
    "# distplot or distribution plot represents the overall distribution of continuous data variables.\n",
    "# The distplot below shows the overall quantity distributions of product from the super store data\n",
    "\n",
    "\n",
    "sns.distplot(superstoredata.quantity, bins = 10, color = 'g')"
   ]
  },
  {
   "cell_type": "code",
   "execution_count": 70,
   "metadata": {},
   "outputs": [
    {
     "data": {
      "text/plain": [
       "<seaborn.axisgrid.FacetGrid at 0x245dfc309d0>"
      ]
     },
     "execution_count": 70,
     "metadata": {},
     "output_type": "execute_result"
    },
    {
     "data": {
      "image/png": "[encoded data removed]",
      "text/plain": [
       "<Figure size 473x360 with 1 Axes>"
      ]
     },
     "metadata": {
      "needs_background": "light"
     },
     "output_type": "display_data"
    }
   ],
   "source": [
    "# relplot which is also similar to the scatterplot represent the relationship between the values. It shows how one data gets\n",
    "# affected by the other data.\n",
    "# The plot below show the relationship betweent sales and profit from each region and how they affect one another.\n",
    "\n",
    "\n",
    "sns.relplot(x = 'sales', y = 'profit', data = superstoredata, hue = 'region', style = 'supply_rate', size = 'region')"
   ]
  },
  {
   "cell_type": "code",
   "execution_count": 46,
   "metadata": {},
   "outputs": [
    {
     "data": {
      "text/plain": [
       "West       25\n",
       "Central    23\n",
       "East       16\n",
       "South      12\n",
       "Name: region, dtype: int64"
      ]
     },
     "execution_count": 46,
     "metadata": {},
     "output_type": "execute_result"
    }
   ],
   "source": [
    "superstoredata['region'].value_counts()"
   ]
  },
  {
   "cell_type": "code",
   "execution_count": 68,
   "metadata": {},
   "outputs": [
    {
     "data": {
      "text/plain": [
       "<matplotlib.axes._subplots.AxesSubplot at 0x245dfbabcd0>"
      ]
     },
     "execution_count": 68,
     "metadata": {},
     "output_type": "execute_result"
    },
    {
     "data": {
      "image/png": "[encoded data removed]",
      "text/plain": [
       "<Figure size 432x288 with 1 Axes>"
      ]
     },
     "metadata": {
      "needs_background": "light"
     },
     "output_type": "display_data"
    }
   ],
   "source": [
    "# Lineplot shows the relationship between continous values in a continous data format.\n",
    "# The relationship between sales and profit from each region continous as long as there is new data. \n",
    "\n",
    "\n",
    "sns.lineplot(x = 'sales', y = 'profit', hue = 'region', data = superstoredata, markers = True, ci = 50)"
   ]
  },
  {
   "cell_type": "markdown",
   "metadata": {},
   "source": [
    "# catplot data visualization of sales and profit from Region\n",
    "# Using one or more visualizations, catplot shows the relationship between a numerical and one or more categorical variables.\n",
    "# x-axis = categorical variables\n",
    "# y-axis = numerical variable"
   ]
  },
  {
   "cell_type": "code",
   "execution_count": 74,
   "metadata": {},
   "outputs": [
    {
     "data": {
      "text/plain": [
       "<seaborn.axisgrid.FacetGrid at 0x245dfbb9f70>"
      ]
     },
     "execution_count": 74,
     "metadata": {},
     "output_type": "execute_result"
    },
    {
     "data": {
      "image/png": "[encoded data removed]",
      "text/plain": [
       "<Figure size 360x360 with 1 Axes>"
      ]
     },
     "metadata": {
      "needs_background": "light"
     },
     "output_type": "display_data"
    }
   ],
   "source": [
    "sns.catplot(x = 'region', y = 'sales', data = superstoredata)"
   ]
  },
  {
   "cell_type": "code",
   "execution_count": 75,
   "metadata": {},
   "outputs": [
    {
     "data": {
      "text/plain": [
       "<seaborn.axisgrid.FacetGrid at 0x245e0dfe130>"
      ]
     },
     "execution_count": 75,
     "metadata": {},
     "output_type": "execute_result"
    },
    {
     "data": {
      "image/png": "[encoded data removed]",
      "text/plain": [
       "<Figure size 360x360 with 1 Axes>"
      ]
     },
     "metadata": {
      "needs_background": "light"
     },
     "output_type": "display_data"
    }
   ],
   "source": [
    "sns.catplot(x = 'region', y = 'profit', data = superstoredata, jitter = False)"
   ]
  },
  {
   "cell_type": "code",
   "execution_count": 77,
   "metadata": {},
   "outputs": [
    {
     "data": {
      "text/plain": [
       "<seaborn.axisgrid.FacetGrid at 0x245e0dfa670>"
      ]
     },
     "execution_count": 77,
     "metadata": {},
     "output_type": "execute_result"
    },
    {
     "data": {
      "image/png": "[encoded data removed]",
      "text/plain": [
       "<Figure size 473x360 with 1 Axes>"
      ]
     },
     "metadata": {
      "needs_background": "light"
     },
     "output_type": "display_data"
    }
   ],
   "source": [
    "sns.catplot(x = 'region', y = 'sales', data = superstoredata, kind = 'swarm', hue = 'supply_rate')"
   ]
  },
  {
   "cell_type": "code",
   "execution_count": 79,
   "metadata": {},
   "outputs": [
    {
     "data": {
      "text/plain": [
       "<seaborn.axisgrid.FacetGrid at 0x245e0ea7550>"
      ]
     },
     "execution_count": 79,
     "metadata": {},
     "output_type": "execute_result"
    },
    {
     "data": {
      "image/png": "[encoded data removed]",
      "text/plain": [
       "<Figure size 360x360 with 1 Axes>"
      ]
     },
     "metadata": {
      "needs_background": "light"
     },
     "output_type": "display_data"
    }
   ],
   "source": [
    "sns.catplot(x = 'region', y = 'sales', kind = 'boxen', data = superstoredata, dodge = False)"
   ]
  },
  {
   "cell_type": "code",
   "execution_count": 83,
   "metadata": {},
   "outputs": [
    {
     "data": {
      "text/plain": [
       "<seaborn.axisgrid.FacetGrid at 0x245dfd9a730>"
      ]
     },
     "execution_count": 83,
     "metadata": {},
     "output_type": "execute_result"
    },
    {
     "data": {
      "image/png": "[encoded data removed]",
      "text/plain": [
       "<Figure size 473x360 with 1 Axes>"
      ]
     },
     "metadata": {
      "needs_background": "light"
     },
     "output_type": "display_data"
    }
   ],
   "source": [
    "sns.catplot(x = 'region', y = 'sales', hue = 'supply_rate', kind = 'violin', data = superstoredata)"
   ]
  },
  {
   "cell_type": "code",
   "execution_count": 86,
   "metadata": {},
   "outputs": [
    {
     "data": {
      "text/plain": [
       "<seaborn.axisgrid.FacetGrid at 0x245e1115f10>"
      ]
     },
     "execution_count": 86,
     "metadata": {},
     "output_type": "execute_result"
    },
    {
     "data": {
      "image/png": "[encoded data removed]",
      "text/plain": [
       "<Figure size 473x360 with 1 Axes>"
      ]
     },
     "metadata": {
      "needs_background": "light"
     },
     "output_type": "display_data"
    }
   ],
   "source": [
    "# The black line represents the uncertianty of sales and d its supply\n",
    "# The longer the line the higher the uncertainty of supply in that region\n",
    "\n",
    "\n",
    "sns.catplot(x = 'region', y = 'sales', kind = 'bar', hue = 'supply_rate', data = superstoredata)"
   ]
  },
  {
   "cell_type": "code",
   "execution_count": 87,
   "metadata": {},
   "outputs": [
    {
     "data": {
      "text/plain": [
       "<seaborn.axisgrid.FacetGrid at 0x245e10cd6d0>"
      ]
     },
     "execution_count": 87,
     "metadata": {},
     "output_type": "execute_result"
    },
    {
     "data": {
      "image/png": "[encoded data removed]",
      "text/plain": [
       "<Figure size 360x360 with 1 Axes>"
      ]
     },
     "metadata": {
      "needs_background": "light"
     },
     "output_type": "display_data"
    }
   ],
   "source": [
    "# \n",
    "\n",
    "sns.catplot(x = 'ship_mode', kind = 'count', palette = 'Set2', data = superstoredata)"
   ]
  },
  {
   "cell_type": "code",
   "execution_count": null,
   "metadata": {},
   "outputs": [],
   "source": []
  }
 ],
 "metadata": {
  "kernelspec": {
   "display_name": "Python 3",
   "language": "python",
   "name": "python3"
  },
  "language_info": {
   "codemirror_mode": {
    "name": "ipython",
    "version": 3
   },
   "file_extension": ".py",
   "mimetype": "text/x-python",
   "name": "python",
   "nbconvert_exporter": "python",
   "pygments_lexer": "ipython3",
   "version": "3.8.3"
  }
 },
 "nbformat": 4,
 "nbformat_minor": 4
}
